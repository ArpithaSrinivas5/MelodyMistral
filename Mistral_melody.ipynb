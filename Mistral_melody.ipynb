{
  "nbformat": 4,
  "nbformat_minor": 0,
  "metadata": {
    "colab": {
      "provenance": [],
      "gpuType": "V100"
    },
    "kernelspec": {
      "name": "python3",
      "display_name": "Python 3"
    },
    "language_info": {
      "name": "python"
    },
    "accelerator": "GPU"
  },
  "cells": [
    {
      "cell_type": "code",
      "execution_count": 1,
      "metadata": {
        "colab": {
          "base_uri": "https://localhost:8080/"
        },
        "id": "x7pScjBva-Jd",
        "outputId": "30cf9c0a-54c0-47a7-daff-c7328b8bdfc1"
      },
      "outputs": [
        {
          "output_type": "stream",
          "name": "stdout",
          "text": [
            "Collecting mistralai\n",
            "  Downloading mistralai-0.1.6-py3-none-any.whl (15 kB)\n",
            "Collecting httpx<0.26.0,>=0.25.2 (from mistralai)\n",
            "  Downloading httpx-0.25.2-py3-none-any.whl (74 kB)\n",
            "\u001b[2K     \u001b[90m━━━━━━━━━━━━━━━━━━━━━━━━━━━━━━━━━━━━━━━━\u001b[0m \u001b[32m75.0/75.0 kB\u001b[0m \u001b[31m3.9 MB/s\u001b[0m eta \u001b[36m0:00:00\u001b[0m\n",
            "\u001b[?25hCollecting orjson<4.0.0,>=3.9.10 (from mistralai)\n",
            "  Downloading orjson-3.9.15-cp310-cp310-manylinux_2_17_x86_64.manylinux2014_x86_64.whl (138 kB)\n",
            "\u001b[2K     \u001b[90m━━━━━━━━━━━━━━━━━━━━━━━━━━━━━━━━━━━━━━━━\u001b[0m \u001b[32m138.5/138.5 kB\u001b[0m \u001b[31m11.2 MB/s\u001b[0m eta \u001b[36m0:00:00\u001b[0m\n",
            "\u001b[?25hCollecting pandas<3.0.0,>=2.2.0 (from mistralai)\n",
            "  Downloading pandas-2.2.1-cp310-cp310-manylinux_2_17_x86_64.manylinux2014_x86_64.whl (13.0 MB)\n",
            "\u001b[2K     \u001b[90m━━━━━━━━━━━━━━━━━━━━━━━━━━━━━━━━━━━━━━━━\u001b[0m \u001b[32m13.0/13.0 MB\u001b[0m \u001b[31m50.7 MB/s\u001b[0m eta \u001b[36m0:00:00\u001b[0m\n",
            "\u001b[?25hCollecting pyarrow<16.0.0,>=15.0.0 (from mistralai)\n",
            "  Downloading pyarrow-15.0.2-cp310-cp310-manylinux_2_28_x86_64.whl (38.3 MB)\n",
            "\u001b[2K     \u001b[90m━━━━━━━━━━━━━━━━━━━━━━━━━━━━━━━━━━━━━━━━\u001b[0m \u001b[32m38.3/38.3 MB\u001b[0m \u001b[31m14.3 MB/s\u001b[0m eta \u001b[36m0:00:00\u001b[0m\n",
            "\u001b[?25hRequirement already satisfied: pydantic<3.0.0,>=2.5.2 in /usr/local/lib/python3.10/dist-packages (from mistralai) (2.6.4)\n",
            "Requirement already satisfied: anyio in /usr/local/lib/python3.10/dist-packages (from httpx<0.26.0,>=0.25.2->mistralai) (3.7.1)\n",
            "Requirement already satisfied: certifi in /usr/local/lib/python3.10/dist-packages (from httpx<0.26.0,>=0.25.2->mistralai) (2024.2.2)\n",
            "Collecting httpcore==1.* (from httpx<0.26.0,>=0.25.2->mistralai)\n",
            "  Downloading httpcore-1.0.4-py3-none-any.whl (77 kB)\n",
            "\u001b[2K     \u001b[90m━━━━━━━━━━━━━━━━━━━━━━━━━━━━━━━━━━━━━━━━\u001b[0m \u001b[32m77.8/77.8 kB\u001b[0m \u001b[31m11.0 MB/s\u001b[0m eta \u001b[36m0:00:00\u001b[0m\n",
            "\u001b[?25hRequirement already satisfied: idna in /usr/local/lib/python3.10/dist-packages (from httpx<0.26.0,>=0.25.2->mistralai) (3.6)\n",
            "Requirement already satisfied: sniffio in /usr/local/lib/python3.10/dist-packages (from httpx<0.26.0,>=0.25.2->mistralai) (1.3.1)\n",
            "Collecting h11<0.15,>=0.13 (from httpcore==1.*->httpx<0.26.0,>=0.25.2->mistralai)\n",
            "  Downloading h11-0.14.0-py3-none-any.whl (58 kB)\n",
            "\u001b[2K     \u001b[90m━━━━━━━━━━━━━━━━━━━━━━━━━━━━━━━━━━━━━━━━\u001b[0m \u001b[32m58.3/58.3 kB\u001b[0m \u001b[31m9.2 MB/s\u001b[0m eta \u001b[36m0:00:00\u001b[0m\n",
            "\u001b[?25hRequirement already satisfied: numpy<2,>=1.22.4 in /usr/local/lib/python3.10/dist-packages (from pandas<3.0.0,>=2.2.0->mistralai) (1.25.2)\n",
            "Requirement already satisfied: python-dateutil>=2.8.2 in /usr/local/lib/python3.10/dist-packages (from pandas<3.0.0,>=2.2.0->mistralai) (2.8.2)\n",
            "Requirement already satisfied: pytz>=2020.1 in /usr/local/lib/python3.10/dist-packages (from pandas<3.0.0,>=2.2.0->mistralai) (2023.4)\n",
            "Collecting tzdata>=2022.7 (from pandas<3.0.0,>=2.2.0->mistralai)\n",
            "  Downloading tzdata-2024.1-py2.py3-none-any.whl (345 kB)\n",
            "\u001b[2K     \u001b[90m━━━━━━━━━━━━━━━━━━━━━━━━━━━━━━━━━━━━━━━━\u001b[0m \u001b[32m345.4/345.4 kB\u001b[0m \u001b[31m33.4 MB/s\u001b[0m eta \u001b[36m0:00:00\u001b[0m\n",
            "\u001b[?25hRequirement already satisfied: annotated-types>=0.4.0 in /usr/local/lib/python3.10/dist-packages (from pydantic<3.0.0,>=2.5.2->mistralai) (0.6.0)\n",
            "Requirement already satisfied: pydantic-core==2.16.3 in /usr/local/lib/python3.10/dist-packages (from pydantic<3.0.0,>=2.5.2->mistralai) (2.16.3)\n",
            "Requirement already satisfied: typing-extensions>=4.6.1 in /usr/local/lib/python3.10/dist-packages (from pydantic<3.0.0,>=2.5.2->mistralai) (4.10.0)\n",
            "Requirement already satisfied: six>=1.5 in /usr/local/lib/python3.10/dist-packages (from python-dateutil>=2.8.2->pandas<3.0.0,>=2.2.0->mistralai) (1.16.0)\n",
            "Requirement already satisfied: exceptiongroup in /usr/local/lib/python3.10/dist-packages (from anyio->httpx<0.26.0,>=0.25.2->mistralai) (1.2.0)\n",
            "Installing collected packages: tzdata, pyarrow, orjson, h11, pandas, httpcore, httpx, mistralai\n",
            "  Attempting uninstall: pyarrow\n",
            "    Found existing installation: pyarrow 14.0.2\n",
            "    Uninstalling pyarrow-14.0.2:\n",
            "      Successfully uninstalled pyarrow-14.0.2\n",
            "  Attempting uninstall: pandas\n",
            "    Found existing installation: pandas 1.5.3\n",
            "    Uninstalling pandas-1.5.3:\n",
            "      Successfully uninstalled pandas-1.5.3\n",
            "\u001b[31mERROR: pip's dependency resolver does not currently take into account all the packages that are installed. This behaviour is the source of the following dependency conflicts.\n",
            "bigframes 0.26.0 requires pandas<2.1.4,>=1.5.0, but you have pandas 2.2.1 which is incompatible.\n",
            "google-colab 1.0.0 requires pandas==1.5.3, but you have pandas 2.2.1 which is incompatible.\u001b[0m\u001b[31m\n",
            "\u001b[0mSuccessfully installed h11-0.14.0 httpcore-1.0.4 httpx-0.25.2 mistralai-0.1.6 orjson-3.9.15 pandas-2.2.1 pyarrow-15.0.2 tzdata-2024.1\n",
            "Collecting python-dotenv\n",
            "  Downloading python_dotenv-1.0.1-py3-none-any.whl (19 kB)\n",
            "Installing collected packages: python-dotenv\n",
            "Successfully installed python-dotenv-1.0.1\n",
            "Collecting spotipy\n",
            "  Downloading spotipy-2.23.0-py3-none-any.whl (29 kB)\n",
            "Collecting redis>=3.5.3 (from spotipy)\n",
            "  Downloading redis-5.0.3-py3-none-any.whl (251 kB)\n",
            "\u001b[2K     \u001b[90m━━━━━━━━━━━━━━━━━━━━━━━━━━━━━━━━━━━━━━━━\u001b[0m \u001b[32m251.8/251.8 kB\u001b[0m \u001b[31m6.5 MB/s\u001b[0m eta \u001b[36m0:00:00\u001b[0m\n",
            "\u001b[?25hRequirement already satisfied: requests>=2.25.0 in /usr/local/lib/python3.10/dist-packages (from spotipy) (2.31.0)\n",
            "Requirement already satisfied: six>=1.15.0 in /usr/local/lib/python3.10/dist-packages (from spotipy) (1.16.0)\n",
            "Requirement already satisfied: urllib3>=1.26.0 in /usr/local/lib/python3.10/dist-packages (from spotipy) (2.0.7)\n",
            "Requirement already satisfied: async-timeout>=4.0.3 in /usr/local/lib/python3.10/dist-packages (from redis>=3.5.3->spotipy) (4.0.3)\n",
            "Requirement already satisfied: charset-normalizer<4,>=2 in /usr/local/lib/python3.10/dist-packages (from requests>=2.25.0->spotipy) (3.3.2)\n",
            "Requirement already satisfied: idna<4,>=2.5 in /usr/local/lib/python3.10/dist-packages (from requests>=2.25.0->spotipy) (3.6)\n",
            "Requirement already satisfied: certifi>=2017.4.17 in /usr/local/lib/python3.10/dist-packages (from requests>=2.25.0->spotipy) (2024.2.2)\n",
            "Installing collected packages: redis, spotipy\n",
            "Successfully installed redis-5.0.3 spotipy-2.23.0\n"
          ]
        }
      ],
      "source": [
        "!pip install mistralai -U\n",
        "!pip install python-dotenv\n",
        "!pip3 install spotipy\n"
      ]
    },
    {
      "cell_type": "code",
      "source": [
        "import json\n",
        "import os\n",
        "from dotenv import load_dotenv\n",
        "load_dotenv()\n",
        "from IPython.display import display, Markdown"
      ],
      "metadata": {
        "id": "lHBTIk9tbwoz"
      },
      "execution_count": 1,
      "outputs": []
    },
    {
      "cell_type": "code",
      "source": [
        "from mistralai.client import MistralClient\n",
        "from mistralai.models.chat_completion import ChatMessage\n",
        "import os\n",
        "import requests\n",
        "import spotipy\n",
        "from spotipy.oauth2 import SpotifyClientCredentials"
      ],
      "metadata": {
        "id": "O5oULg77b6ha"
      },
      "execution_count": 2,
      "outputs": []
    },
    {
      "cell_type": "code",
      "source": [
        "import requests\n",
        "\n",
        "def get_current_weather(city, api_key=os.getenv(\"OPENWEATHER_API_KEY\"), unit=\"metric\"):\n",
        "    \"\"\"Get the current weather for a given city using OpenWeather API.\"\"\"\n",
        "    base_url = \"http://api.openweathermap.org/data/2.5/weather\"\n",
        "    params = {\n",
        "        \"q\": city,\n",
        "        \"appid\": api_key,\n",
        "        \"units\": unit\n",
        "    }\n",
        "    response = requests.get(base_url, params=params)\n",
        "    if response.status_code == 200:\n",
        "        data = response.json()\n",
        "        #print(data)\n",
        "        weather = {\n",
        "            \"location\": data[\"name\"],\n",
        "            \"temperature\": int(data[\"main\"][\"temp\"]),\n",
        "            \"rain\": data[\"weather\"][0][\"main\"],\n",
        "            \"unit\": \"Celsius\" if unit == \"metric\" else \"Fahrenheit\"\n",
        "        }\n",
        "        return json.dumps(weather)\n",
        "    else:\n",
        "        return {\"location\": city, \"temperature\": \"unknown\", \"unit\": unit, \"rain\": \"unknown\"}\n",
        "\n",
        "api_key = os.getenv(\"OPENWEATHER_API_KEY\")\n",
        "weather_info = get_current_weather(\"Nagercoil\")\n",
        "print(weather_info)"
      ],
      "metadata": {
        "colab": {
          "base_uri": "https://localhost:8080/"
        },
        "id": "WY9ZCf1Vb74Q",
        "outputId": "ffbdff0b-1519-4978-9653-9c00dff10ab0"
      },
      "execution_count": 3,
      "outputs": [
        {
          "output_type": "stream",
          "name": "stdout",
          "text": [
            "{\"location\": \"Nagercoil\", \"temperature\": 29, \"rain\": \"Clouds\", \"unit\": \"Celsius\"}\n"
          ]
        }
      ]
    },
    {
      "cell_type": "code",
      "source": [
        "import spotipy\n",
        "from spotipy.oauth2 import SpotifyClientCredentials\n",
        "import os\n",
        "from IPython.display import Image, display, Audio\n",
        "\n",
        "def search_song(song_name):\n",
        "    # Set up your Spotify credentials\n",
        "    client_id = os.getenv(\"SPOTIFY_CLIENT_ID\")\n",
        "    client_secret = os.getenv(\"SPOTIFY_CLIENT_SECRET\")\n",
        "\n",
        "    # Authenticate with Spotify\n",
        "    client_credentials_manager = SpotifyClientCredentials(client_id=client_id, client_secret=client_secret)\n",
        "    sp = spotipy.Spotify(client_credentials_manager=client_credentials_manager)\n",
        "\n",
        "    # Search for the song\n",
        "    results = sp.search(q=song_name, limit=1, type='track')\n",
        "    tracks = results['tracks']['items']\n",
        "\n",
        "    # Display the first result\n",
        "    if tracks:\n",
        "        track = tracks[0]\n",
        "        return json.dumps({\n",
        "            \"song\": track['name'],\n",
        "            \"artist\": ', '.join(artist['name'] for artist in track['artists']),\n",
        "            \"album\": track['album']['name'],\n",
        "            \"album_cover_url\": track['album']['images'][0]['url'],\n",
        "            \"preview_url\": track['preview_url']\n",
        "        })\n",
        "\n",
        "    else:\n",
        "        return \"No song found\"\n",
        "\n",
        "song_name = \"arabi kuthu\"\n",
        "song_details = search_song(song_name)\n",
        "print(song_details)"
      ],
      "metadata": {
        "colab": {
          "base_uri": "https://localhost:8080/"
        },
        "id": "Iy8ktHrAb-Qv",
        "outputId": "1e214356-a293-417c-f7f0-ef4ea36774e1"
      },
      "execution_count": 31,
      "outputs": [
        {
          "output_type": "stream",
          "name": "stdout",
          "text": [
            "{\"song\": \"Arabic Kuthu - Halamithi Habibo (From \\\"Beast\\\")\", \"artist\": \"Anirudh Ravichander, Jonita Gandhi\", \"album\": \"Arabic Kuthu - Halamithi Habibo (From \\\"Beast\\\")\", \"album_cover_url\": \"https://i.scdn.co/image/ab67616d0000b273b6b3b7f26f0bc0e0197163a0\", \"preview_url\": \"https://p.scdn.co/mp3-preview/fa5ac33ff747d7b71a99d6ad9ca4a3aaa1cc5f1b?cid=5385f207ed2d4b01ad1becda6e213329\"}\n"
          ]
        }
      ]
    },
    {
      "cell_type": "code",
      "source": [
        "\n",
        "available_tools = [\n",
        "    {\n",
        "        \"type\": \"function\",\n",
        "        \"function\": {\n",
        "            \"name\": \"get_current_weather\",\n",
        "            \"description\": \"Get the current weather in a given location, use farhenheit\",\n",
        "            \"parameters\": {\n",
        "                \"type\": \"object\",\n",
        "                \"properties\": {\n",
        "                    \"city\": {\n",
        "                        \"type\": \"string\",\n",
        "                        \"description\": \"The city to get the weather for\",\n",
        "                    },\n",
        "                    \"unit\": {\n",
        "                        \"type\": \"string\",\n",
        "                        \"description\": \"The unit to use for the temperature, metric is default\",\n",
        "                        \"enum\": [\"metric\", \"imperial\"],\n",
        "                    }\n",
        "                },\n",
        "                \"required\": [\"city\", \"unit\"],\n",
        "            },\n",
        "        },\n",
        "    },\n",
        "    {\n",
        "        \"type\": \"function\",\n",
        "        \"function\": {\n",
        "            \"name\": \"search_song\",\n",
        "            \"description\": \"Search for a song on Spotify and display its details including the artist, album, album cover, and a preview link if available\",\n",
        "            \"parameters\": {\n",
        "                \"type\": \"object\",\n",
        "                \"properties\": {\n",
        "                    \"song_name\": {\n",
        "                        \"type\": \"string\",\n",
        "                        \"description\": \"The name of the song to search for\",\n",
        "                    }\n",
        "                },\n",
        "                \"required\": [\"song_name\"],\n",
        "            }\n",
        "        }\n",
        "    }\n",
        "]\n",
        "\n",
        "names_to_functions = {\n",
        "    'get_current_weather': get_current_weather,\n",
        "    'search_song': search_song\n",
        "}"
      ],
      "metadata": {
        "id": "pIZbOg47cBmn"
      },
      "execution_count": 24,
      "outputs": []
    },
    {
      "cell_type": "code",
      "source": [
        "client = MistralClient(api_key=api_key)"
      ],
      "metadata": {
        "id": "zZCj001_cDp4"
      },
      "execution_count": 25,
      "outputs": []
    },
    {
      "cell_type": "code",
      "source": [
        "\n",
        "def get_weather(city):\n",
        "    messages = [\n",
        "        ChatMessage(role=\"user\", content=f\"What's the current weather in {city}?\")\n",
        "    ]\n",
        "\n",
        "    model = \"mistral-large-latest\"\n",
        "    api_key = os.getenv(\"MISTRAL_API_KEY\")\n",
        "\n",
        "    client = MistralClient(api_key=api_key)\n",
        "    response = client.chat(model=model, messages=messages, tools=available_tools, tool_choice=\"auto\")\n",
        "\n",
        "    tool_call = response.choices[0].message.tool_calls[0]\n",
        "    function_name = tool_call.function.name\n",
        "    function_params = json.loads(tool_call.function.arguments)\n",
        "\n",
        "    function_result = names_to_functions[function_name](**function_params)\n",
        "    return json.loads(function_result)\n",
        "\n",
        "def suggest_songs(weather_info):\n",
        "    messages = [\n",
        "        ChatMessage(role=\"system\", content=\"A Song Suggestions Assistant based on local weather and language\"),\n",
        "        ChatMessage(role=\"user\", content=f\"\"\"The current weather is {weather_info['temperature']} degrees {weather_info['unit']} with {weather_info['rain']} in {weather_info['location']}.\n",
        "        Suggest 5 songs based on this weather and the local language.\n",
        "        Return a json object with keys as song, artist, album, album_cover_url, preview_url and reason.\n",
        "        Use the key 'song_suggestions' and provide the value as a list of json objects with keys song, artist, album, album_cover_url, preview_url and reason.\"\"\")\n",
        "    ]\n",
        "\n",
        "    model = \"mistral-large-latest\"\n",
        "    api_key = os.getenv(\"MISTRAL_API_KEY\")\n",
        "\n",
        "    client = MistralClient(api_key=api_key)\n",
        "    response = client.chat(model=model, messages=messages, tools=available_tools, tool_choice=\"auto\")\n",
        "\n",
        "    while response.choices[0].message.tool_calls:\n",
        "        tool_call = response.choices[0].message.tool_calls[0]\n",
        "        function_name = tool_call.function.name\n",
        "        function_params = json.loads(tool_call.function.arguments)\n",
        "\n",
        "        function_result = names_to_functions[function_name](**function_params)\n",
        "\n",
        "        messages.append(ChatMessage(role=\"tool\", name=function_name, content=function_result))\n",
        "        response = client.chat(model=model, messages=messages, tools=available_tools, tool_choice=\"auto\")\n",
        "\n",
        "    return response\n",
        "\n",
        "city = \"Sydney\"\n",
        "weather_info = get_weather(city)\n",
        "result = suggest_songs(weather_info)\n",
        "song_suggestions =result.choices[0].message.content\n",
        "\n",
        "# for song in song_suggestions_json[\"song_suggestions\"]:\n",
        "#     print(f\"### {song['song']}\")\n",
        "#     print(f\"**Artist:** {song['artist']}\")\n",
        "#     print(f\"**Album:** {song['album']}\")\n",
        "#     print(f\"[Preview the song]({song['preview_url']})\")\n",
        "#     print(f\"**Reason:** {song['reason']}\")\n",
        "#     print(\"----\")"
      ],
      "metadata": {
        "id": "w3ccxritcFMn"
      },
      "execution_count": 44,
      "outputs": []
    },
    {
      "cell_type": "code",
      "source": [],
      "metadata": {
        "id": "XVOTYI4hk8P2"
      },
      "execution_count": 47,
      "outputs": []
    },
    {
      "cell_type": "code",
      "source": [
        "model = \"mistral-large-latest\"\n",
        "api_key = os.getenv(\"MISTRAL_API_KEY\")\n",
        "client = MistralClient(api_key=api_key)\n",
        "\n"
      ],
      "metadata": {
        "id": "DFQyu66ZcGsa"
      },
      "execution_count": 45,
      "outputs": []
    },
    {
      "cell_type": "code",
      "source": [
        "final_res = f\"\"\"Convert it into a json object with keys as song, artist, album, album_cover_url, preview_url and reason.\n",
        "Use the key 'song_suggestions' and provide the value as a list of json objects with keys song, artist, album, album_cover_url, preview_url and reason JSON format.\n",
        "\n",
        "Message:\n",
        "{result.choices[0].message.content}\n",
        "\n",
        "\"\"\"\n",
        "\n",
        "# mistral call\n",
        "\n",
        "result = client.chat(model=\"mistral-large-latest\", response_format={\"type\": \"json_object\"},messages=[ChatMessage(role=\"user\", content=final_res)])\n",
        "\n",
        "print(result.choices[0].message.content)\n",
        "\n"
      ],
      "metadata": {
        "colab": {
          "base_uri": "https://localhost:8080/"
        },
        "id": "TLHF4O2LcKQ2",
        "outputId": "ef920e39-492c-45ef-da30-feb2cbb959c8"
      },
      "execution_count": 46,
      "outputs": [
        {
          "output_type": "stream",
          "name": "stdout",
          "text": [
            "{\"song_suggestions\": [{\"song\": \"Sunny\", \"artist\": \"Bobby Hebb\", \"album\": \"Sunny (Remastered 2014)\", \"album_cover_url\": \"https://i.scdn.co/image/ab67616d0000b273e97c6646fc7407175c999e4d\", \"preview_url\": \"https://p.scdn.co/mp3-preview/7acdb7876e48d68266b522b83b742e1e18ebc237?cid=774b29d4f13844c495f206cafdad9c86\", \"reason\": \"This classic upbeat song matches the warm and sunny weather in Sydney.\"}, {\"song\": \"Three Little Birds\", \"artist\": \"Bob Marley & The Wailers\", \"album\": \"Exodus (Deluxe Edition)\", \"album_cover_url\": \"https://i.scdn.co/image/ab67616d0000b2736e4b9f5b47261e9f9570287b\", \"preview_url\": \"https://p.scdn.co/mp3-preview/3e2a4444751263f12a039e3416c6e27b6d262745?cid=774b29d4f13844c495f206cafdad9c86\", \"reason\": \"This relaxing song with a positive message suits the pleasant weather in Sydney.\"}, {\"song\": \"Walking on Sunshine\", \"artist\": \"Katrina & The Waves\", \"album\": \"Walking on Sunshine\", \"album_cover_url\": \"https://i.scdn.co/image/ab67616d0000b27327e97b2969b70f1951d56636\", \"preview_url\": \"https://p.scdn.co/mp3-preview/2b89a9d04b4f44c6159e17b3675fa4b158597894?cid=774b29d4f13844c495f206cafdad9c86\", \"reason\": \"This lively and cheerful song complements the warm and sunny day in Sydney.\"}, {\"song\": \"Mr. Blue Sky\", \"artist\": \"Electric Light Orchestra\", \"album\": \"Out of the Blue (Super Deluxe Edition)\", \"album_cover_url\": \"https://i.scdn.co/image/ab67616d0000b2734dd176895268a2d366457e8f\", \"preview_url\": \"https://p.scdn.co/mp3-preview/7611d840f45063b62e7e7c7b36f84e1575ef2209?cid=774b29d4f13844c495f206cafdad9c86\", \"reason\": \"This uplifting song with a catchy tune matches the sunny weather with clouds in Sydney.\"}, {\"song\": \"Good Day Sunshine\", \"artist\": \"The Beatles\", \"album\": \"Revolver (Remastered 2009)\", \"album_cover_url\": \"https://i.scdn.co/image/ab67616d0000b2734c103467cb2466f6780c268f\", \"preview_url\": \"https://p.scdn.co/mp3-preview/4592827bda8969a90e40a4a961d8b63c85c50b22?cid=774b29d4f13844c495f206cafdad9c86\", \"reason\": \"This cheerful song by The Beatles is fitting for the warm and sunny weather in Sydney.\"}]}\n"
          ]
        }
      ]
    },
    {
      "cell_type": "code",
      "source": [
        "# print json\n",
        "song_suggestions = json.loads(result.choices[0].message.content)\n",
        "for song in song_suggestions[\"song_suggestions\"]:\n",
        "    print(song)\n",
        "\n"
      ],
      "metadata": {
        "colab": {
          "base_uri": "https://localhost:8080/"
        },
        "id": "8PNCUE-KcLNW",
        "outputId": "0a3ace49-ab32-46f6-d309-2814943de8cf"
      },
      "execution_count": 29,
      "outputs": [
        {
          "output_type": "stream",
          "name": "stdout",
          "text": [
            "{'song': 'Kadhal Rojave', 'artist': 'Sid Sriram', 'album': 'Chennai 2 Singapore', 'album_cover_url': 'https://i.scdn.co/image/ab67616d0000b2730096db8d86803161529b63c6', 'preview_url': 'https://p.scdn.co/mp3-preview/7529a65f6b56e98b5f7700b13a446504b01b39f1?cid=774b29d4f13844c495f206cafdad9c86', 'reason': 'This is a popular Tamil song with a lively tune that suits the hot, cloudy weather.'}\n",
            "{'song': 'Ennodu Nee Irundhal', 'artist': 'Anirudh Ravichander, Shakthisree Gopalan', 'album': 'I', 'album_cover_url': 'https://i.scdn.co/image/ab67616d0000b27337e8e0e36598ded68e3f0905', 'preview_url': 'https://p.scdn.co/mp3-preview/a50e6560e2c660f08a94ab24795b3658424e9362?cid=774b29d4f13844c495f206cafdad9c86', 'reason': 'This song has a romantic, soothing melody that matches the cloudy sky.'}\n"
          ]
        }
      ]
    },
    {
      "cell_type": "code",
      "source": [
        "for song in song_suggestions[\"song_suggestions\"]:\n",
        "    print(f\"### {song['song']}\")\n",
        "    print(f\"**Artist:** {song['artist']}\")\n",
        "    print(f\"**Album:** {song['album']}\")\n",
        "    print(f\"[Preview the song]({song['preview_url']})\")\n",
        "    #print(f\"[Preview the song]({song['additional_info']['preview_url']})\")\n",
        "    print(f\"**Reason:** {song['reason']}\")\n",
        "    print(\"----\")"
      ],
      "metadata": {
        "colab": {
          "base_uri": "https://localhost:8080/"
        },
        "id": "L-w03J4_cWM9",
        "outputId": "9b998377-9a6a-49c9-8022-dc2c014fa68d"
      },
      "execution_count": 35,
      "outputs": [
        {
          "output_type": "stream",
          "name": "stdout",
          "text": [
            "### Kadhal Rojave\n",
            "**Artist:** Sid Sriram\n",
            "**Album:** Chennai 2 Singapore\n",
            "[Preview the song](https://p.scdn.co/mp3-preview/7529a65f6b56e98b5f7700b13a446504b01b39f1?cid=774b29d4f13844c495f206cafdad9c86)\n",
            "**Reason:** This is a popular Tamil song with a lively tune that suits the hot, cloudy weather.\n",
            "----\n",
            "### Ennodu Nee Irundhal\n",
            "**Artist:** Anirudh Ravichander, Shakthisree Gopalan\n",
            "**Album:** I\n",
            "[Preview the song](https://p.scdn.co/mp3-preview/a50e6560e2c660f08a94ab24795b3658424e9362?cid=774b29d4f13844c495f206cafdad9c86)\n",
            "**Reason:** This song has a romantic, soothing melody that matches the cloudy sky.\n",
            "----\n"
          ]
        }
      ]
    },
    {
      "cell_type": "code",
      "source": [
        "def generate_weather_music(city):\n",
        "    messages = [\n",
        "        {\n",
        "            \"role\": \"system\",\n",
        "            \"content\": \"A Song Suggestions Assistant based on local weather in metric and local language\"\n",
        "        },\n",
        "        {\n",
        "            \"role\": \"user\",\n",
        "            \"content\": f\"\"\"I am in {city}, suggest 5 songs based on their current weather and their local language\n",
        "            and display their album details such as album cover, artist, and preview link.\n",
        "            return a json object with keys as song, artist, album, album_cover_url, and preview_url and reason\n",
        "\n",
        "            key as song_suggestions and value as a list of json objects with keys as song, artist, album, album_cover_url, preview_url, and reason\n",
        "            \"\"\"\n",
        "        }\n",
        "    ]\n",
        "    tools = available_tools\n",
        "    response = client.chat(\n",
        "        model=model,\n",
        "        messages=messages,\n",
        "        tools=tools,\n",
        "        tool_choice=\"any\",\n",
        "\n",
        "    )\n",
        "    response_message = response.choices[0].message\n",
        "    tool_calls = response_message.tool_calls\n",
        "\n",
        "    if tool_calls:\n",
        "        function_name = tool_calls[0].function.name\n",
        "        function_args = json.loads(tool_calls[0].function.arguments)\n",
        "        function_response = names_to_functions[function_name](**function_args)\n",
        "\n",
        "        messages.append(response_message)\n",
        "        messages.append(\n",
        "            {\n",
        "                \"tool_call_id\": tool_calls[0].id,\n",
        "                \"role\": \"tool\",\n",
        "                \"name\": function_name,\n",
        "                \"content\": function_response,\n",
        "            }\n",
        "        )\n",
        "\n",
        "        second_response = client.chat(\n",
        "            model=model,\n",
        "            messages=messages,\n",
        "            tools=available_tools,\n",
        "            tool_choice=\"any\",\n",
        "        )\n",
        "\n",
        "        response_message = second_response.choices[0].message\n",
        "        tool_calls = response_message.tool_calls\n",
        "\n",
        "        if tool_calls:\n",
        "            messages.append(response_message)\n",
        "            for tool in tool_calls:\n",
        "                function_name = tool.function.name\n",
        "                function_args = json.loads(tool.function.arguments)\n",
        "                function_response = names_to_functions[function_name](**function_args)\n",
        "\n",
        "                messages.append(\n",
        "                    {\n",
        "                        \"tool_call_id\": tool.id,\n",
        "                        \"role\": \"tool\",\n",
        "                        \"name\": function_name,\n",
        "                        \"content\": function_response,\n",
        "                    }\n",
        "                )\n",
        "\n",
        "            third_response = client.chat(\n",
        "                model= model,\n",
        "                messages=messages,\n",
        "                response_format={\"type\":\"json_object\"}\n",
        "            )\n",
        "\n",
        "            return third_response"
      ],
      "metadata": {
        "id": "C9R9t1ywcazf"
      },
      "execution_count": 51,
      "outputs": []
    },
    {
      "cell_type": "code",
      "source": [
        "result = generate_weather_music(\"San Francisco\")"
      ],
      "metadata": {
        "id": "LJmnadx8rtEu"
      },
      "execution_count": 58,
      "outputs": []
    },
    {
      "cell_type": "code",
      "source": [
        "song_suggestions_json = result.choices[0].message.content"
      ],
      "metadata": {
        "id": "NkdYUZiar5HE"
      },
      "execution_count": 59,
      "outputs": []
    },
    {
      "cell_type": "code",
      "source": [
        "type(song_suggestions_json)"
      ],
      "metadata": {
        "colab": {
          "base_uri": "https://localhost:8080/"
        },
        "id": "tuVe8dtFsI72",
        "outputId": "427206aa-b057-4db1-d69a-b2bc571bb3f4"
      },
      "execution_count": 60,
      "outputs": [
        {
          "output_type": "execute_result",
          "data": {
            "text/plain": [
              "str"
            ]
          },
          "metadata": {},
          "execution_count": 60
        }
      ]
    },
    {
      "cell_type": "code",
      "source": [
        "song_suggestions_json = json.loads(song_suggestions_json)"
      ],
      "metadata": {
        "id": "ZA5eZO9ltH2q"
      },
      "execution_count": 61,
      "outputs": []
    },
    {
      "cell_type": "code",
      "source": [
        "song_suggestions_json"
      ],
      "metadata": {
        "colab": {
          "base_uri": "https://localhost:8080/"
        },
        "id": "sJIYVaZbtJap",
        "outputId": "11a7a42d-5a33-4737-cac8-6329de6d85a3"
      },
      "execution_count": 62,
      "outputs": [
        {
          "output_type": "execute_result",
          "data": {
            "text/plain": [
              "{'song_suggestions': [{'song': 'Rainy Day Song',\n",
              "   'artist': 'Andrew Combs',\n",
              "   'album': 'All These Dreams',\n",
              "   'album_cover_url': 'https://i.scdn.co/image/ab67616d0000b2739aed7bc3a3b1bb2c5ac5ad24',\n",
              "   'preview_url': 'https://p.scdn.co/mp3-preview/ad03880dc1f0e2a89d81dc7e400f50c607d86492?cid=5385f207ed2d4b01ad1becda6e213329',\n",
              "   'reason': \"Since it's a bit chilly and cloudy in San Francisco, this song fits the mood.\"},\n",
              "  {'song': 'The Cloudy Day',\n",
              "   'artist': 'Jeff Pitchell',\n",
              "   'album': \"Rockin' Songs for Kids\",\n",
              "   'album_cover_url': 'https://i.scdn.co/image/ab67616d0000b27331376cc8d2c7bdf6d6c53bbb',\n",
              "   'preview_url': 'https://p.scdn.co/mp3-preview/ddeb96bebe814a76ecb6762777e9f8404086546b?cid=5385f207ed2d4b01ad1becda6e213329',\n",
              "   'reason': \"It's a cloudy day in San Francisco, this song matches the weather.\"},\n",
              "  {'song': 'San Francisco Song',\n",
              "   'artist': 'Camera Obscura',\n",
              "   'album': 'Keep It Clean',\n",
              "   'album_cover_url': 'https://i.scdn.co/image/ab67616d0000b273c56fd4d88e853aa917e14a06',\n",
              "   'preview_url': 'https://p.scdn.co/mp3-preview/ad334a70642f54422421219a44fed1b502181d63?cid=5385f207ed2d4b01ad1becda6e213329',\n",
              "   'reason': 'A song about San Francisco for your location.'},\n",
              "  {'song': 'Chill song',\n",
              "   'artist': 'Cnpr',\n",
              "   'album': 'Chill song',\n",
              "   'album_cover_url': 'https://i.scdn.co/image/ab67616d0000b273fa635ffa9701dd7a99cf9f9f',\n",
              "   'preview_url': 'https://p.scdn.co/mp3-preview/98b48700a9024f6f47c7700eac452517807e9b66?cid=5385f207ed2d4b01ad1becda6e213329',\n",
              "   'reason': 'A chill song to match the cool weather in San Francisco.'},\n",
              "  {'song': 'Locker Room Talk (30 Days, 30 Songs)',\n",
              "   'artist': 'Cold War Kids',\n",
              "   'album': 'Locker Room Talk (30 Days, 30 Songs)',\n",
              "   'album_cover_url': 'https://i.scdn.co/image/ab67616d0000b27365222b9323d35afa514155e2',\n",
              "   'preview_url': 'https://p.scdn.co/mp3-preview/563a63a2aca2ae8b95bed48c0461ab93b3575932?cid=5385f207ed2d4b01ad1becda6e213329',\n",
              "   'reason': \"A song that has 'cold' in the title, perfect for the cool weather in San Francisco.\"}]}"
            ]
          },
          "metadata": {},
          "execution_count": 62
        }
      ]
    },
    {
      "cell_type": "code",
      "source": [
        "for song in song_suggestions_json[\"song_suggestions\"]:\n",
        "    display(Markdown(f\"### {song['song']}\"))\n",
        "    display(Markdown(f\"**Artist:** {song['artist']}\"))\n",
        "    display(Markdown(f\"**Album:** {song['album']}\"))\n",
        "    display(Image(url=song['album_cover_url'], width=200))\n",
        "    display(Markdown(f\"[Preview the song]({song['preview_url']})\"))\n",
        "    display(Markdown(f\"**Reason:** {song['reason']}\"))\n",
        "    display(Markdown(\"----\"))"
      ],
      "metadata": {
        "colab": {
          "base_uri": "https://localhost:8080/",
          "height": 1000
        },
        "id": "1zo_5xFdtKlq",
        "outputId": "a3e85973-c0de-439b-bb61-0a41b869d823"
      },
      "execution_count": 63,
      "outputs": [
        {
          "output_type": "display_data",
          "data": {
            "text/plain": [
              "<IPython.core.display.Markdown object>"
            ],
            "text/markdown": "### Rainy Day Song"
          },
          "metadata": {}
        },
        {
          "output_type": "display_data",
          "data": {
            "text/plain": [
              "<IPython.core.display.Markdown object>"
            ],
            "text/markdown": "**Artist:** Andrew Combs"
          },
          "metadata": {}
        },
        {
          "output_type": "display_data",
          "data": {
            "text/plain": [
              "<IPython.core.display.Markdown object>"
            ],
            "text/markdown": "**Album:** All These Dreams"
          },
          "metadata": {}
        },
        {
          "output_type": "display_data",
          "data": {
            "text/html": [
              "<img src=\"https://i.scdn.co/image/ab67616d0000b2739aed7bc3a3b1bb2c5ac5ad24\" width=\"200\"/>"
            ],
            "text/plain": [
              "<IPython.core.display.Image object>"
            ]
          },
          "metadata": {}
        },
        {
          "output_type": "display_data",
          "data": {
            "text/plain": [
              "<IPython.core.display.Markdown object>"
            ],
            "text/markdown": "[Preview the song](https://p.scdn.co/mp3-preview/ad03880dc1f0e2a89d81dc7e400f50c607d86492?cid=5385f207ed2d4b01ad1becda6e213329)"
          },
          "metadata": {}
        },
        {
          "output_type": "display_data",
          "data": {
            "text/plain": [
              "<IPython.core.display.Markdown object>"
            ],
            "text/markdown": "**Reason:** Since it's a bit chilly and cloudy in San Francisco, this song fits the mood."
          },
          "metadata": {}
        },
        {
          "output_type": "display_data",
          "data": {
            "text/plain": [
              "<IPython.core.display.Markdown object>"
            ],
            "text/markdown": "----"
          },
          "metadata": {}
        },
        {
          "output_type": "display_data",
          "data": {
            "text/plain": [
              "<IPython.core.display.Markdown object>"
            ],
            "text/markdown": "### The Cloudy Day"
          },
          "metadata": {}
        },
        {
          "output_type": "display_data",
          "data": {
            "text/plain": [
              "<IPython.core.display.Markdown object>"
            ],
            "text/markdown": "**Artist:** Jeff Pitchell"
          },
          "metadata": {}
        },
        {
          "output_type": "display_data",
          "data": {
            "text/plain": [
              "<IPython.core.display.Markdown object>"
            ],
            "text/markdown": "**Album:** Rockin' Songs for Kids"
          },
          "metadata": {}
        },
        {
          "output_type": "display_data",
          "data": {
            "text/html": [
              "<img src=\"https://i.scdn.co/image/ab67616d0000b27331376cc8d2c7bdf6d6c53bbb\" width=\"200\"/>"
            ],
            "text/plain": [
              "<IPython.core.display.Image object>"
            ]
          },
          "metadata": {}
        },
        {
          "output_type": "display_data",
          "data": {
            "text/plain": [
              "<IPython.core.display.Markdown object>"
            ],
            "text/markdown": "[Preview the song](https://p.scdn.co/mp3-preview/ddeb96bebe814a76ecb6762777e9f8404086546b?cid=5385f207ed2d4b01ad1becda6e213329)"
          },
          "metadata": {}
        },
        {
          "output_type": "display_data",
          "data": {
            "text/plain": [
              "<IPython.core.display.Markdown object>"
            ],
            "text/markdown": "**Reason:** It's a cloudy day in San Francisco, this song matches the weather."
          },
          "metadata": {}
        },
        {
          "output_type": "display_data",
          "data": {
            "text/plain": [
              "<IPython.core.display.Markdown object>"
            ],
            "text/markdown": "----"
          },
          "metadata": {}
        },
        {
          "output_type": "display_data",
          "data": {
            "text/plain": [
              "<IPython.core.display.Markdown object>"
            ],
            "text/markdown": "### San Francisco Song"
          },
          "metadata": {}
        },
        {
          "output_type": "display_data",
          "data": {
            "text/plain": [
              "<IPython.core.display.Markdown object>"
            ],
            "text/markdown": "**Artist:** Camera Obscura"
          },
          "metadata": {}
        },
        {
          "output_type": "display_data",
          "data": {
            "text/plain": [
              "<IPython.core.display.Markdown object>"
            ],
            "text/markdown": "**Album:** Keep It Clean"
          },
          "metadata": {}
        },
        {
          "output_type": "display_data",
          "data": {
            "text/html": [
              "<img src=\"https://i.scdn.co/image/ab67616d0000b273c56fd4d88e853aa917e14a06\" width=\"200\"/>"
            ],
            "text/plain": [
              "<IPython.core.display.Image object>"
            ]
          },
          "metadata": {}
        },
        {
          "output_type": "display_data",
          "data": {
            "text/plain": [
              "<IPython.core.display.Markdown object>"
            ],
            "text/markdown": "[Preview the song](https://p.scdn.co/mp3-preview/ad334a70642f54422421219a44fed1b502181d63?cid=5385f207ed2d4b01ad1becda6e213329)"
          },
          "metadata": {}
        },
        {
          "output_type": "display_data",
          "data": {
            "text/plain": [
              "<IPython.core.display.Markdown object>"
            ],
            "text/markdown": "**Reason:** A song about San Francisco for your location."
          },
          "metadata": {}
        },
        {
          "output_type": "display_data",
          "data": {
            "text/plain": [
              "<IPython.core.display.Markdown object>"
            ],
            "text/markdown": "----"
          },
          "metadata": {}
        },
        {
          "output_type": "display_data",
          "data": {
            "text/plain": [
              "<IPython.core.display.Markdown object>"
            ],
            "text/markdown": "### Chill song"
          },
          "metadata": {}
        },
        {
          "output_type": "display_data",
          "data": {
            "text/plain": [
              "<IPython.core.display.Markdown object>"
            ],
            "text/markdown": "**Artist:** Cnpr"
          },
          "metadata": {}
        },
        {
          "output_type": "display_data",
          "data": {
            "text/plain": [
              "<IPython.core.display.Markdown object>"
            ],
            "text/markdown": "**Album:** Chill song"
          },
          "metadata": {}
        },
        {
          "output_type": "display_data",
          "data": {
            "text/html": [
              "<img src=\"https://i.scdn.co/image/ab67616d0000b273fa635ffa9701dd7a99cf9f9f\" width=\"200\"/>"
            ],
            "text/plain": [
              "<IPython.core.display.Image object>"
            ]
          },
          "metadata": {}
        },
        {
          "output_type": "display_data",
          "data": {
            "text/plain": [
              "<IPython.core.display.Markdown object>"
            ],
            "text/markdown": "[Preview the song](https://p.scdn.co/mp3-preview/98b48700a9024f6f47c7700eac452517807e9b66?cid=5385f207ed2d4b01ad1becda6e213329)"
          },
          "metadata": {}
        },
        {
          "output_type": "display_data",
          "data": {
            "text/plain": [
              "<IPython.core.display.Markdown object>"
            ],
            "text/markdown": "**Reason:** A chill song to match the cool weather in San Francisco."
          },
          "metadata": {}
        },
        {
          "output_type": "display_data",
          "data": {
            "text/plain": [
              "<IPython.core.display.Markdown object>"
            ],
            "text/markdown": "----"
          },
          "metadata": {}
        },
        {
          "output_type": "display_data",
          "data": {
            "text/plain": [
              "<IPython.core.display.Markdown object>"
            ],
            "text/markdown": "### Locker Room Talk (30 Days, 30 Songs)"
          },
          "metadata": {}
        },
        {
          "output_type": "display_data",
          "data": {
            "text/plain": [
              "<IPython.core.display.Markdown object>"
            ],
            "text/markdown": "**Artist:** Cold War Kids"
          },
          "metadata": {}
        },
        {
          "output_type": "display_data",
          "data": {
            "text/plain": [
              "<IPython.core.display.Markdown object>"
            ],
            "text/markdown": "**Album:** Locker Room Talk (30 Days, 30 Songs)"
          },
          "metadata": {}
        },
        {
          "output_type": "display_data",
          "data": {
            "text/html": [
              "<img src=\"https://i.scdn.co/image/ab67616d0000b27365222b9323d35afa514155e2\" width=\"200\"/>"
            ],
            "text/plain": [
              "<IPython.core.display.Image object>"
            ]
          },
          "metadata": {}
        },
        {
          "output_type": "display_data",
          "data": {
            "text/plain": [
              "<IPython.core.display.Markdown object>"
            ],
            "text/markdown": "[Preview the song](https://p.scdn.co/mp3-preview/563a63a2aca2ae8b95bed48c0461ab93b3575932?cid=5385f207ed2d4b01ad1becda6e213329)"
          },
          "metadata": {}
        },
        {
          "output_type": "display_data",
          "data": {
            "text/plain": [
              "<IPython.core.display.Markdown object>"
            ],
            "text/markdown": "**Reason:** A song that has 'cold' in the title, perfect for the cool weather in San Francisco."
          },
          "metadata": {}
        },
        {
          "output_type": "display_data",
          "data": {
            "text/plain": [
              "<IPython.core.display.Markdown object>"
            ],
            "text/markdown": "----"
          },
          "metadata": {}
        }
      ]
    },
    {
      "cell_type": "code",
      "source": [],
      "metadata": {
        "id": "Y93BZufftPvP"
      },
      "execution_count": null,
      "outputs": []
    }
  ]
}